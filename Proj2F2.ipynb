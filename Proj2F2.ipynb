{
 "cells": [
  {
   "cell_type": "markdown",
   "metadata": {
    "nbgrader": {
     "grade": false,
     "locked": true,
     "solution": false
    }
   },
   "source": [
    "## ProjF2 - Data Exploration\n",
    "\n",
    "Use this document as a template to provide some exploratory analysis of your data similar to the one in ProjC1. You are welcome to go in as much depth as needed.\n",
    "\n",
    "Make sure you keep the sections specified in this template, but you are welcome to add more cells with your code or explanation as needed."
   ]
  },
  {
   "cell_type": "code",
   "execution_count": 1,
   "metadata": {
    "nbgrader": {
     "grade": false,
     "locked": true,
     "solution": false
    }
   },
   "outputs": [],
   "source": [
    "import numpy as np\n",
    "import pandas as pd\n",
    "import matplotlib.pyplot as plt"
   ]
  },
  {
   "cell_type": "markdown",
   "metadata": {
    "nbgrader": {
     "grade": false,
     "locked": true,
     "solution": false
    }
   },
   "source": [
    "### 1. Load and Visualize Data -- Raphael\n",
    "\n",
    "Let's start by loading your entire dataset or a sample if it is a larger dataset."
   ]
  },
  {
   "cell_type": "code",
   "execution_count": 2,
   "metadata": {
    "nbgrader": {
     "grade": false,
     "locked": true,
     "solution": false
    }
   },
   "outputs": [
    {
     "data": {
      "text/html": [
       "<div>\n",
       "<style scoped>\n",
       "    .dataframe tbody tr th:only-of-type {\n",
       "        vertical-align: middle;\n",
       "    }\n",
       "\n",
       "    .dataframe tbody tr th {\n",
       "        vertical-align: top;\n",
       "    }\n",
       "\n",
       "    .dataframe thead th {\n",
       "        text-align: right;\n",
       "    }\n",
       "</style>\n",
       "<table border=\"1\" class=\"dataframe\">\n",
       "  <thead>\n",
       "    <tr style=\"text-align: right;\">\n",
       "      <th></th>\n",
       "      <th>Unnamed: 0</th>\n",
       "      <th>res_id</th>\n",
       "      <th>date</th>\n",
       "      <th>inflow</th>\n",
       "      <th>release</th>\n",
       "      <th>storage</th>\n",
       "      <th>storage_pre</th>\n",
       "      <th>release_pre</th>\n",
       "      <th>net_inflow</th>\n",
       "      <th>storage_roll7</th>\n",
       "      <th>release_roll7</th>\n",
       "      <th>inflow_roll7</th>\n",
       "      <th>storage_x_inflow</th>\n",
       "      <th>release_pre2</th>\n",
       "      <th>inflow2</th>\n",
       "      <th>sto_diff</th>\n",
       "      <th>const</th>\n",
       "    </tr>\n",
       "  </thead>\n",
       "  <tbody>\n",
       "    <tr>\n",
       "      <th>4698</th>\n",
       "      <td>261524</td>\n",
       "      <td>1101</td>\n",
       "      <td>1992-11-18</td>\n",
       "      <td>1346214.4</td>\n",
       "      <td>3058214.4</td>\n",
       "      <td>72419000.0</td>\n",
       "      <td>74131000.0</td>\n",
       "      <td>3058214.4</td>\n",
       "      <td>1346214.4</td>\n",
       "      <td>7.818500e+07</td>\n",
       "      <td>2.481519e+06</td>\n",
       "      <td>1.555518e+06</td>\n",
       "      <td>9.979622e+13</td>\n",
       "      <td>9.352675e+12</td>\n",
       "      <td>1.812293e+12</td>\n",
       "      <td>-0.031983</td>\n",
       "      <td>1</td>\n",
       "    </tr>\n",
       "    <tr>\n",
       "      <th>5605</th>\n",
       "      <td>262431</td>\n",
       "      <td>1101</td>\n",
       "      <td>1995-05-14</td>\n",
       "      <td>367027.2</td>\n",
       "      <td>367027.2</td>\n",
       "      <td>134562000.0</td>\n",
       "      <td>134562000.0</td>\n",
       "      <td>367027.2</td>\n",
       "      <td>367027.2</td>\n",
       "      <td>1.321500e+08</td>\n",
       "      <td>3.495497e+05</td>\n",
       "      <td>1.171027e+06</td>\n",
       "      <td>4.938791e+13</td>\n",
       "      <td>1.347090e+11</td>\n",
       "      <td>1.347090e+11</td>\n",
       "      <td>-0.004332</td>\n",
       "      <td>1</td>\n",
       "    </tr>\n",
       "    <tr>\n",
       "      <th>3001</th>\n",
       "      <td>259827</td>\n",
       "      <td>1101</td>\n",
       "      <td>1988-03-27</td>\n",
       "      <td>3547625.6</td>\n",
       "      <td>611625.6</td>\n",
       "      <td>51378000.0</td>\n",
       "      <td>48442000.0</td>\n",
       "      <td>611625.6</td>\n",
       "      <td>3547625.6</td>\n",
       "      <td>4.665986e+07</td>\n",
       "      <td>1.328128e+06</td>\n",
       "      <td>1.223290e+06</td>\n",
       "      <td>1.718541e+14</td>\n",
       "      <td>3.740859e+11</td>\n",
       "      <td>1.258565e+13</td>\n",
       "      <td>-0.006808</td>\n",
       "      <td>1</td>\n",
       "    </tr>\n",
       "    <tr>\n",
       "      <th>10317</th>\n",
       "      <td>267143</td>\n",
       "      <td>1101</td>\n",
       "      <td>2008-04-07</td>\n",
       "      <td>17615000.0</td>\n",
       "      <td>0.0</td>\n",
       "      <td>459221000.0</td>\n",
       "      <td>441606000.0</td>\n",
       "      <td>0.0</td>\n",
       "      <td>17615000.0</td>\n",
       "      <td>3.255336e+08</td>\n",
       "      <td>6.815479e+05</td>\n",
       "      <td>3.075686e+07</td>\n",
       "      <td>7.778890e+15</td>\n",
       "      <td>0.000000e+00</td>\n",
       "      <td>3.102882e+14</td>\n",
       "      <td>0.655242</td>\n",
       "      <td>1</td>\n",
       "    </tr>\n",
       "    <tr>\n",
       "      <th>7442</th>\n",
       "      <td>264268</td>\n",
       "      <td>1101</td>\n",
       "      <td>2000-05-24</td>\n",
       "      <td>734588.8</td>\n",
       "      <td>2446588.8</td>\n",
       "      <td>181780000.0</td>\n",
       "      <td>183492000.0</td>\n",
       "      <td>2446588.8</td>\n",
       "      <td>734588.8</td>\n",
       "      <td>1.920209e+08</td>\n",
       "      <td>2.446589e+06</td>\n",
       "      <td>4.194459e+05</td>\n",
       "      <td>1.347912e+14</td>\n",
       "      <td>5.985797e+12</td>\n",
       "      <td>5.396207e+11</td>\n",
       "      <td>-0.066892</td>\n",
       "      <td>1</td>\n",
       "    </tr>\n",
       "    <tr>\n",
       "      <th>...</th>\n",
       "      <td>...</td>\n",
       "      <td>...</td>\n",
       "      <td>...</td>\n",
       "      <td>...</td>\n",
       "      <td>...</td>\n",
       "      <td>...</td>\n",
       "      <td>...</td>\n",
       "      <td>...</td>\n",
       "      <td>...</td>\n",
       "      <td>...</td>\n",
       "      <td>...</td>\n",
       "      <td>...</td>\n",
       "      <td>...</td>\n",
       "      <td>...</td>\n",
       "      <td>...</td>\n",
       "      <td>...</td>\n",
       "      <td>...</td>\n",
       "    </tr>\n",
       "    <tr>\n",
       "      <th>5118</th>\n",
       "      <td>261944</td>\n",
       "      <td>1101</td>\n",
       "      <td>1994-01-12</td>\n",
       "      <td>-244748.8</td>\n",
       "      <td>1223251.2</td>\n",
       "      <td>41836000.0</td>\n",
       "      <td>43304000.0</td>\n",
       "      <td>2446588.8</td>\n",
       "      <td>-244748.8</td>\n",
       "      <td>4.473714e+07</td>\n",
       "      <td>1.747539e+06</td>\n",
       "      <td>1.363110e+06</td>\n",
       "      <td>-1.059860e+13</td>\n",
       "      <td>5.985797e+12</td>\n",
       "      <td>5.990198e+10</td>\n",
       "      <td>-0.002807</td>\n",
       "      <td>1</td>\n",
       "    </tr>\n",
       "    <tr>\n",
       "      <th>4842</th>\n",
       "      <td>261668</td>\n",
       "      <td>1101</td>\n",
       "      <td>1993-04-11</td>\n",
       "      <td>27279342.4</td>\n",
       "      <td>122342.4</td>\n",
       "      <td>122084000.0</td>\n",
       "      <td>94927000.0</td>\n",
       "      <td>122342.4</td>\n",
       "      <td>27279342.4</td>\n",
       "      <td>5.791386e+07</td>\n",
       "      <td>2.114554e+06</td>\n",
       "      <td>1.156880e+07</td>\n",
       "      <td>2.589546e+15</td>\n",
       "      <td>1.496766e+10</td>\n",
       "      <td>7.441625e+14</td>\n",
       "      <td>0.232589</td>\n",
       "      <td>1</td>\n",
       "    </tr>\n",
       "    <tr>\n",
       "      <th>4702</th>\n",
       "      <td>261528</td>\n",
       "      <td>1101</td>\n",
       "      <td>1992-11-22</td>\n",
       "      <td>5015561.6</td>\n",
       "      <td>2079561.6</td>\n",
       "      <td>72419000.0</td>\n",
       "      <td>69483000.0</td>\n",
       "      <td>3058214.4</td>\n",
       "      <td>5015561.6</td>\n",
       "      <td>7.287300e+07</td>\n",
       "      <td>3.058214e+06</td>\n",
       "      <td>2.114550e+06</td>\n",
       "      <td>3.484963e+14</td>\n",
       "      <td>9.352675e+12</td>\n",
       "      <td>2.515586e+13</td>\n",
       "      <td>-0.025230</td>\n",
       "      <td>1</td>\n",
       "    </tr>\n",
       "    <tr>\n",
       "      <th>3755</th>\n",
       "      <td>260581</td>\n",
       "      <td>1101</td>\n",
       "      <td>1990-04-20</td>\n",
       "      <td>3425017.6</td>\n",
       "      <td>8563017.6</td>\n",
       "      <td>310959000.0</td>\n",
       "      <td>316097000.0</td>\n",
       "      <td>8563017.6</td>\n",
       "      <td>3425017.6</td>\n",
       "      <td>3.308461e+08</td>\n",
       "      <td>7.458529e+06</td>\n",
       "      <td>2.586343e+06</td>\n",
       "      <td>1.082638e+15</td>\n",
       "      <td>7.332527e+13</td>\n",
       "      <td>1.173075e+13</td>\n",
       "      <td>-0.142176</td>\n",
       "      <td>1</td>\n",
       "    </tr>\n",
       "    <tr>\n",
       "      <th>9775</th>\n",
       "      <td>266601</td>\n",
       "      <td>1101</td>\n",
       "      <td>2006-10-13</td>\n",
       "      <td>244219.2</td>\n",
       "      <td>1957219.2</td>\n",
       "      <td>85385000.0</td>\n",
       "      <td>87098000.0</td>\n",
       "      <td>1957219.2</td>\n",
       "      <td>244219.2</td>\n",
       "      <td>9.227071e+07</td>\n",
       "      <td>1.957219e+06</td>\n",
       "      <td>2.446478e+05</td>\n",
       "      <td>2.127100e+13</td>\n",
       "      <td>3.830707e+12</td>\n",
       "      <td>5.964302e+10</td>\n",
       "      <td>-0.022726</td>\n",
       "      <td>1</td>\n",
       "    </tr>\n",
       "  </tbody>\n",
       "</table>\n",
       "<p>500 rows × 17 columns</p>\n",
       "</div>"
      ],
      "text/plain": [
       "       Unnamed: 0  res_id        date      inflow    release      storage  \\\n",
       "4698       261524    1101  1992-11-18   1346214.4  3058214.4   72419000.0   \n",
       "5605       262431    1101  1995-05-14    367027.2   367027.2  134562000.0   \n",
       "3001       259827    1101  1988-03-27   3547625.6   611625.6   51378000.0   \n",
       "10317      267143    1101  2008-04-07  17615000.0        0.0  459221000.0   \n",
       "7442       264268    1101  2000-05-24    734588.8  2446588.8  181780000.0   \n",
       "...           ...     ...         ...         ...        ...          ...   \n",
       "5118       261944    1101  1994-01-12   -244748.8  1223251.2   41836000.0   \n",
       "4842       261668    1101  1993-04-11  27279342.4   122342.4  122084000.0   \n",
       "4702       261528    1101  1992-11-22   5015561.6  2079561.6   72419000.0   \n",
       "3755       260581    1101  1990-04-20   3425017.6  8563017.6  310959000.0   \n",
       "9775       266601    1101  2006-10-13    244219.2  1957219.2   85385000.0   \n",
       "\n",
       "       storage_pre  release_pre  net_inflow  storage_roll7  release_roll7  \\\n",
       "4698    74131000.0    3058214.4   1346214.4   7.818500e+07   2.481519e+06   \n",
       "5605   134562000.0     367027.2    367027.2   1.321500e+08   3.495497e+05   \n",
       "3001    48442000.0     611625.6   3547625.6   4.665986e+07   1.328128e+06   \n",
       "10317  441606000.0          0.0  17615000.0   3.255336e+08   6.815479e+05   \n",
       "7442   183492000.0    2446588.8    734588.8   1.920209e+08   2.446589e+06   \n",
       "...            ...          ...         ...            ...            ...   \n",
       "5118    43304000.0    2446588.8   -244748.8   4.473714e+07   1.747539e+06   \n",
       "4842    94927000.0     122342.4  27279342.4   5.791386e+07   2.114554e+06   \n",
       "4702    69483000.0    3058214.4   5015561.6   7.287300e+07   3.058214e+06   \n",
       "3755   316097000.0    8563017.6   3425017.6   3.308461e+08   7.458529e+06   \n",
       "9775    87098000.0    1957219.2    244219.2   9.227071e+07   1.957219e+06   \n",
       "\n",
       "       inflow_roll7  storage_x_inflow  release_pre2       inflow2  sto_diff  \\\n",
       "4698   1.555518e+06      9.979622e+13  9.352675e+12  1.812293e+12 -0.031983   \n",
       "5605   1.171027e+06      4.938791e+13  1.347090e+11  1.347090e+11 -0.004332   \n",
       "3001   1.223290e+06      1.718541e+14  3.740859e+11  1.258565e+13 -0.006808   \n",
       "10317  3.075686e+07      7.778890e+15  0.000000e+00  3.102882e+14  0.655242   \n",
       "7442   4.194459e+05      1.347912e+14  5.985797e+12  5.396207e+11 -0.066892   \n",
       "...             ...               ...           ...           ...       ...   \n",
       "5118   1.363110e+06     -1.059860e+13  5.985797e+12  5.990198e+10 -0.002807   \n",
       "4842   1.156880e+07      2.589546e+15  1.496766e+10  7.441625e+14  0.232589   \n",
       "4702   2.114550e+06      3.484963e+14  9.352675e+12  2.515586e+13 -0.025230   \n",
       "3755   2.586343e+06      1.082638e+15  7.332527e+13  1.173075e+13 -0.142176   \n",
       "9775   2.446478e+05      2.127100e+13  3.830707e+12  5.964302e+10 -0.022726   \n",
       "\n",
       "       const  \n",
       "4698       1  \n",
       "5605       1  \n",
       "3001       1  \n",
       "10317      1  \n",
       "7442       1  \n",
       "...      ...  \n",
       "5118       1  \n",
       "4842       1  \n",
       "4702       1  \n",
       "3755       1  \n",
       "9775       1  \n",
       "\n",
       "[500 rows x 17 columns]"
      ]
     },
     "execution_count": 2,
     "metadata": {},
     "output_type": "execute_result"
    }
   ],
   "source": [
    "### YOUR CODE HERE\n",
    "data = pd.read_csv(\"data/AD.csv\")\n",
    "sample = data.sample(500, random_state=420)\n",
    "sample"
   ]
  },
  {
   "cell_type": "markdown",
   "metadata": {
    "nbgrader": {
     "grade": false,
     "locked": true,
     "solution": false
    }
   },
   "source": [
    "Provide some visualization of the data. For example,\n",
    "- If your data is time series, you can plot a sequence and the response or label.\n",
    "- If tabular data, you can plot histograms of the data.\n",
    "- If working with image recognition or segmentation, you can show an image and the corresponding output.\n",
    "- If it is a video that you are processing, just show screenshots.\n",
    "- If doing something with reinforcement learning, you can provide samples of the simulation environment used."
   ]
  },
  {
   "cell_type": "code",
   "execution_count": 3,
   "metadata": {
    "nbgrader": {
     "grade": false,
     "locked": true,
     "solution": false
    }
   },
   "outputs": [],
   "source": [
    "### YOUR CODE HERE\n",
    "# sequence diagram for release\n",
    "# correlation plot for all variables and release\n",
    "plt.show()"
   ]
  },
  {
   "cell_type": "markdown",
   "metadata": {},
   "source": [
    "### 2. Compute Some Statistics from your Data -- Adharsh\n",
    "\n",
    "First, extract some characterisitics about the input (e.g., image size, means and standard deviation of values, sample frequency)."
   ]
  },
  {
   "cell_type": "code",
   "execution_count": 4,
   "metadata": {},
   "outputs": [],
   "source": [
    "### YOUR CODE HERE"
   ]
  },
  {
   "cell_type": "markdown",
   "metadata": {
    "nbgrader": {
     "grade": false,
     "locked": true,
     "solution": false
    }
   },
   "source": [
    "Next, provide some characteristics about your output (e.g., histograms, spatial distribution of bounding boxes in the case of object detection, etc.). In the case of cases such as tasks such as reinforcement learning, you can provide details about the desired output and rewards used. You can show some correlations between inputs and outputs if possible."
   ]
  },
  {
   "cell_type": "code",
   "execution_count": 5,
   "metadata": {
    "nbgrader": {
     "grade": false,
     "locked": true,
     "solution": false
    }
   },
   "outputs": [],
   "source": [
    "### YOUR CODE HERE"
   ]
  },
  {
   "cell_type": "markdown",
   "metadata": {
    "nbgrader": {
     "grade": false,
     "locked": true,
     "solution": false
    }
   },
   "source": [
    "### 3. Comment on Your Data -- Jiheun\n",
    "\n",
    "Answer these questions as appropriate?\n",
    "- Is your data balanced?\n",
    "- Are there disparities in your input data? Does it show some specific patterns?"
   ]
  },
  {
   "cell_type": "markdown",
   "metadata": {},
   "source": [
    "`### Comment here`"
   ]
  }
 ],
 "metadata": {
  "kernelspec": {
   "display_name": "Python 3 [3.10]",
   "language": "python",
   "name": "python3"
  },
  "language_info": {
   "codemirror_mode": {
    "name": "ipython",
    "version": 3
   },
   "file_extension": ".py",
   "mimetype": "text/x-python",
   "name": "python",
   "nbconvert_exporter": "python",
   "pygments_lexer": "ipython3",
   "version": "3.11.4"
  }
 },
 "nbformat": 4,
 "nbformat_minor": 2
}
